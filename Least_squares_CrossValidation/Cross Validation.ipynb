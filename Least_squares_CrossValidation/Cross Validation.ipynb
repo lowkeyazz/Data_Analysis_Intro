{
 "cells": [
  {
   "cell_type": "code",
   "execution_count": 245,
   "id": "32ac4ad7",
   "metadata": {},
   "outputs": [
    {
     "name": "stdout",
     "output_type": "stream",
     "text": [
      "2.024094208352393\n"
     ]
    },
    {
     "data": {
      "image/png": "[encoded data removed]",
      "text/plain": [
       "<Figure size 432x288 with 1 Axes>"
      ]
     },
     "metadata": {
      "needs_background": "light"
     },
     "output_type": "display_data"
    }
   ],
   "source": [
    "import numpy as np\n",
    "import matplotlib\n",
    "import matplotlib.pyplot as plt\n",
    "N = 15\n",
    "x = np.transpose(np.linspace(0,5,N))\n",
    "y = (x - 2) ** 2 + np.random.randn(N)\n",
    "# polynomial of order k\n",
    "k = 5\n",
    "# compute Least Squares fit\n",
    "A = []\n",
    "#creating with each iteration a polynome of order i\n",
    "for i in range(k+1):\n",
    "    A.append(x ** (k-i))\n",
    "A=np.transpose(A)\n",
    "At=np.transpose(A)\n",
    "#claculating the training model array\n",
    "what = np.dot(np.dot(linalg.inv(np.dot(At,A)),At),y)\n",
    "what\n",
    "\n",
    "# evaluate the polynomial on evenly spaced points.\n",
    "\n",
    "xx = np.transpose(np.linspace(0,5,200))\n",
    "AA = []\n",
    "#creating with each iteration a polynome of order i for the new set of points\n",
    "for i in range(k+1):\n",
    "    AA.append(xx ** (k-i))\n",
    "AA=np.transpose(AA)\n",
    "#calculate the yy result based on the model we got before\n",
    "yy = AA.dot(what)\n",
    "#visualisating the scattering of the previous values on the obtained 200 values \n",
    "plt.figure(1)\n",
    "plt.plot(xx,yy)\n",
    "plt.scatter(x,y,c='r')\n",
    "#calculation the error value\n",
    "err = linalg.norm(y - A.dot(what))\n",
    "print(err)"
   ]
  },
  {
   "cell_type": "code",
   "execution_count": 246,
   "id": "6be35e8e",
   "metadata": {},
   "outputs": [
    {
     "data": {
      "text/plain": [
       "array([[0.6073256 ],\n",
       "       [0.24388231],\n",
       "       [0.23491291],\n",
       "       [0.13756684],\n",
       "       [0.13493961]])"
      ]
     },
     "execution_count": 246,
     "metadata": {},
     "output_type": "execute_result"
    }
   ],
   "source": [
    "#NO Cross validation\n",
    "kmax = 5\n",
    "# generate one large A matrix. We can get the matrices for particular k\n",
    "# values by just picking the correct columns from this matrix.\n",
    "A = []\n",
    "#applying the previous method\n",
    "for i in range(kmax+1):\n",
    "    A.append(x ** (kmax-i))\n",
    "A=np.transpose(A)\n",
    "#calculating each polynomial degree error \n",
    "err = np.zeros((kmax,1))\n",
    "for k in range(kmax):\n",
    "    Amat = A[:,(kmax-(k+1)):(kmax+1)]\n",
    "    AmatT=np.transpose(Amat)\n",
    "    what = np.dot(np.dot(linalg.inv(np.dot(AmatT,Amat)),AmatT),y)\n",
    "    # compute the error and divide by the number of points\n",
    "    err[k] = linalg.norm(y - Amat.dot(what)) / N\n",
    "err"
   ]
  },
  {
   "cell_type": "code",
   "execution_count": 247,
   "id": "c1cf42d0",
   "metadata": {},
   "outputs": [
    {
     "data": {
      "text/plain": [
       "array([[0.6073256 ],\n",
       "       [0.24388231],\n",
       "       [0.23491291],\n",
       "       [0.13756684],\n",
       "       [0.13493961]])"
      ]
     },
     "execution_count": 247,
     "metadata": {},
     "output_type": "execute_result"
    }
   ],
   "source": [
    "#using cross validation\n",
    "\n",
    "T = 12\n",
    "N = 15\n",
    "k=5\n",
    "x = np.transpose(np.linspace(0,5,N))\n",
    "y = (x - 2) ** 2 + np.random.randn(N)\n",
    "kmax=5\n",
    "trials = 1000\n",
    "\n",
    "# generate one large A matrix. We can get the matrices for particular k\n",
    "# values by just picking the correct columns from this matrix.\n",
    "A = []\n",
    "for i in range(k+1):\n",
    "    A.append(x ** (k-i))\n",
    "A=np.transpose(A)\n",
    "errcv = np.zeros((kmax,trials))\n",
    "#training on each trial with a different permuation (taking randomly 12 to train on and 3 \n",
    "#to test on)\n",
    "for t in range(1,trials):\n",
    "    r = np.random.permutation(N)\n",
    "    train = r[0:T]\n",
    "    test = r[T:]\n",
    "    for k in range(kmax):\n",
    "        #training and testing on a slice of the matrix \n",
    "        Atrain = A[train,kmax-(k+1):kmax+1]\n",
    "        Atest = A[test,kmax-(k+1):kmax+1]\n",
    "        ytrain = y[train]\n",
    "        ytest = y[test]\n",
    "        AtrainT=np.transpose(Atrain)\n",
    "        what = np.dot(np.dot(linalg.inv(np.dot(AtrainT,Atrain)),AtrainT),ytrain)\n",
    "        \n",
    "        # compute error and divide by the number of test points\n",
    "        errcv[k][t] = linalg.norm(ytest - (Atest.dot(what))) / (N - T)\n",
    "avg_err_cv = np.mean(errcv,axis=1)\n",
    "avg_err_cv\n",
    "err"
   ]
  },
  {
   "cell_type": "code",
   "execution_count": 248,
   "id": "98442336",
   "metadata": {},
   "outputs": [
    {
     "name": "stdout",
     "output_type": "stream",
     "text": [
      "[0.6073256  0.24388231 0.23491291 0.13756684 0.13493961]\n"
     ]
    },
    {
     "data": {
      "image/png": "[encoded data removed]",
      "text/plain": [
       "<Figure size 432x288 with 1 Axes>"
      ]
     },
     "metadata": {
      "needs_background": "light"
     },
     "output_type": "display_data"
    }
   ],
   "source": [
    "# compare the performance of the least-squares on training data to the\n",
    "# performance when using cross-validation\n",
    "errp = err[:,0]\n",
    "print(errp)\n",
    "labels = ['1', '2', '3', '4', '5']\n",
    "x = np.arange(len(labels))  # the label locations\n",
    "width = 0.35  # the width of the bars\n",
    "\n",
    "fig, ax = plt.subplots()\n",
    "rects1 = ax.bar(x - width/2, errp, width, label='Performance on training Data')\n",
    "rects2 = ax.bar(x + width/2, avg_err_cv, width, label='Using Cross Validation')\n",
    "\n",
    "ax.set_ylabel('Average test error')\n",
    "ax.set_xlabel('Polynomial degree')\n",
    "ax.set_title('Performance Test')\n",
    "ax.set_xticks(x)\n",
    "ax.set_xticklabels(labels)\n",
    "ax.legend()\n",
    "\n",
    "\n",
    "fig.tight_layout()\n",
    "\n",
    "plt.show()"
   ]
  },
  {
   "cell_type": "code",
   "execution_count": null,
   "id": "df0e7b0d",
   "metadata": {},
   "outputs": [],
   "source": []
  }
 ],
 "metadata": {
  "kernelspec": {
   "display_name": "Python 3",
   "language": "python",
   "name": "python3"
  },
  "language_info": {
   "codemirror_mode": {
    "name": "ipython",
    "version": 3
   },
   "file_extension": ".py",
   "mimetype": "text/x-python",
   "name": "python",
   "nbconvert_exporter": "python",
   "pygments_lexer": "ipython3",
   "version": "3.9.4"
  }
 },
 "nbformat": 4,
 "nbformat_minor": 5
}
